{
 "cells": [
  {
   "cell_type": "markdown",
   "metadata": {},
   "source": []
  },
  {
   "cell_type": "code",
   "execution_count": null,
   "metadata": {},
   "outputs": [],
   "source": [
    "import pandas as pd\n",
    "pd.set_option(\"display.width\",200)\n",
    "pd.set_option(\"display.max_rows\",None)\n",
    "pd.set_option(\"display.max_columns\",20)\n",
    "pd.set_option(\"display.unicode.east_asian_width\",True)\n",
    "df=pd.read_csv('超市销售数据.csv')\n",
    "df=df.dropna()\n",
    "#print(df.head(20))\n",
    "\n"
   ]
  },
  {
   "cell_type": "code",
   "execution_count": null,
   "metadata": {},
   "outputs": [],
   "source": [
    "df2=df.groupby('收银员名称')['销售金额'].sum()\n",
    "#df2.sort_values(ascending=False,inplace=True)\n",
    "#print(df2)"
   ]
  },
  {
   "cell_type": "code",
   "execution_count": null,
   "metadata": {},
   "outputs": [],
   "source": [
    "df3=df.groupby('收银员名称')['收银员名称'].count()\n",
    "print(df3)\n",
    "df3.columns=['收银员名称','单数']\n",
    "#df3.index=\n",
    "#df3.drop('收银员名称',axis=1)\n",
    "df4=pd.DataFrame(df3.values,index=df3.index,columns=['单数'])\n",
    "#print(df4)\n",
    "#print(df3(0),axis=1)"
   ]
  },
  {
   "cell_type": "code",
   "execution_count": null,
   "metadata": {},
   "outputs": [],
   "source": [
    "df5=pd.concat([df2,df4],axis=1,ignore_index=False)\n",
    "print(df5)"
   ]
  },
  {
   "cell_type": "code",
   "execution_count": null,
   "metadata": {},
   "outputs": [],
   "source": [
    "import matplotlib.pyplot as plt\n",
    "plt.rc('figure',facecolor='1')\n",
    "plt.rc('font',**{'family':'SimHei'})\n",
    "plt.pie(df5['销售金额'],labels=df5.index,radius=2)\n",
    "plt.title('销售金额',fontsize=40)\n",
    "plt.show()\n"
   ]
  },
  {
   "cell_type": "code",
   "execution_count": null,
   "metadata": {},
   "outputs": [],
   "source": [
    "import matplotlib.pyplot as plt\n",
    "\n",
    "plt.rc('figure',facecolor='1')\n",
    "plt.rc('font',**{'family':'SimHei'})\n",
    "\n",
    "plt.pie(df5['单数'],labels=df5.index,radius=2)\n",
    "plt.title('单数',fontsize=40)\n",
    "plt.show()\n"
   ]
  },
  {
   "cell_type": "code",
   "execution_count": null,
   "metadata": {},
   "outputs": [],
   "source": [
    "#36\n",
    "a=int(input())\n",
    "b=list(map(int,input().split(' ')))\n",
    "m=0\n",
    "for i in b:\n",
    "    if i>a:\n",
    "        m+=1\n",
    "    else:\n",
    "        a-=i\n",
    "print(m)"
   ]
  },
  {
   "cell_type": "code",
   "execution_count": null,
   "metadata": {},
   "outputs": [],
   "source": [
    "#66\n",
    "import math\n",
    "def ss(n):\n",
    "    i=2\n",
    "    if n==1:\n",
    "        return False\n",
    "    else:\n",
    "         while i<n: \n",
    "              if n%i==0:\n",
    "                  return False\n",
    "              i+=1\n",
    "         else:\n",
    "             return True\n",
    "min=int(input())\n",
    "max=int(input())\n",
    "m=''\n",
    "for i in range(min,max+1):\n",
    "    if ss(i)==True:\n",
    "        m+=str(i)+' '\n",
    "print(m[:-1])\n"
   ]
  }
 ],
 "metadata": {
  "kernelspec": {
   "display_name": "Python 3.7.3 64-bit",
   "language": "python",
   "name": "python3"
  },
  "language_info": {
   "codemirror_mode": {
    "name": "ipython",
    "version": 3
   },
   "file_extension": ".py",
   "mimetype": "text/x-python",
   "name": "python",
   "nbconvert_exporter": "python",
   "pygments_lexer": "ipython3",
   "version": "3.7.3"
  },
  "orig_nbformat": 4,
  "vscode": {
   "interpreter": {
    "hash": "54c48fab5ec5a3e93a02e14c1b13d3179eb3bdd6e8236b25385ce6b62e7e1a7a"
   }
  }
 },
 "nbformat": 4,
 "nbformat_minor": 2
}
