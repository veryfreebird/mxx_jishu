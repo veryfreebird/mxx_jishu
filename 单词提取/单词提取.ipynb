{
 "cells": [
  {
   "cell_type": "code",
   "execution_count": null,
   "metadata": {},
   "outputs": [],
   "source": [
    "b={}\n",
    "c=''\n",
    "file='data.txt'\n",
    "for line in open(file):\n",
    "    for x in line:\n",
    "        if 'a'<=x<='z'or 'A'<=x<='Z':\n",
    "            c+=x\n",
    "        elif x==' 'or x==','or x=='.':\n",
    "          if c!='':\n",
    "            if c in b:\n",
    "              b[c]+=1\n",
    "              c=''\n",
    "            else:\n",
    "              b[c]=1\n",
    "              c=''\n",
    "    if c!='':\n",
    "        if c in b:\n",
    "              b[c]+=1\n",
    "              c=''\n",
    "        else:\n",
    "              b[c]=1\n",
    "              c=''\n",
    "print(b)        "
   ]
  },
  {
   "cell_type": "code",
   "execution_count": null,
   "metadata": {},
   "outputs": [],
   "source": [
    "import pandas as pd\n",
    "df=pd.DataFrame(b,index=['cipin'])\n",
    "print(df)\n",
    "df=df.T\n",
    "df=df.sort_values('cipin',ascending=False)\n",
    "df=df.head(10)\n",
    "print(df)"
   ]
  }
 ],
 "metadata": {
  "kernelspec": {
   "display_name": "Python 3.10.4 64-bit",
   "language": "python",
   "name": "python3"
  },
  "language_info": {
   "codemirror_mode": {
    "name": "ipython",
    "version": 3
   },
   "file_extension": ".py",
   "mimetype": "text/x-python",
   "name": "python",
   "nbconvert_exporter": "python",
   "pygments_lexer": "ipython3",
   "version": "3.10.4"
  },
  "orig_nbformat": 4,
  "vscode": {
   "interpreter": {
    "hash": "767d51c1340bd893661ea55ea3124f6de3c7a262a8b4abca0554b478b1e2ff90"
   }
  }
 },
 "nbformat": 4,
 "nbformat_minor": 2
}
